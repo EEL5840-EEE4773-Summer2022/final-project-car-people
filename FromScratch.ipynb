{
 "cells": [
  {
   "cell_type": "code",
   "execution_count": 1,
   "id": "07888cf8",
   "metadata": {},
   "outputs": [],
   "source": [
    "import os\n",
    "# Prevent CUDA from using GPU as it does not work well on my pc\n",
    "os.environ[\"CUDA_VISIBLE_DEVICES\"] = \"-1\"\n",
    "\n",
    "# Set Constants of the model\n",
    "BATCH_SIZE = 64\n",
    "SHUFFLE_BUFFER_SIZE = 100"
   ]
  },
  {
   "cell_type": "code",
   "execution_count": 2,
   "id": "3b124071",
   "metadata": {},
   "outputs": [],
   "source": [
    "# Helper functions\n",
    "import numpy as np\n",
    "\n",
    "# Breaks down a list of integer values into a one-hot like format\n",
    "def one_hot_training(np_array):\n",
    "    transformed_list = []\n",
    "    for arr in np_array:\n",
    "        new_arr = np.zeros(10)\n",
    "        new_arr[int(arr)] = 1\n",
    "        transformed_list.append(new_arr)\n",
    "    return np.array(transformed_list)\n",
    "\n",
    "# This translates the highest value from the one-hot encoding into the correct sign name\n",
    "def one_hot_translator(np_array):\n",
    "    labels_names = ['Stop','Yield','Red Light','Green Light','Roundabout','Right Turn Only',\n",
    "                'Do Not Enter','Crosswalk','Handicap Parking','No Parking']\n",
    "    return labels_names[np.argmax(np_array)]\n",
    "\n",
    "# This translates an entire array of one-hot encoded sign predictions\n",
    "def translate_all(np_array):\n",
    "    translated_values = []\n",
    "    for i in np_array:\n",
    "        translated_values.append(one_hot_translator(i))\n",
    "    return np.array(translated_values)"
   ]
  },
  {
   "cell_type": "code",
   "execution_count": 3,
   "id": "b8aaf541",
   "metadata": {},
   "outputs": [],
   "source": [
    "# First import the data\n",
    "import tensorflow as tf\n",
    "data_train = np.load('data_train.npy').transpose()\n",
    "labels_train = np.load('labels_train.npy')\n",
    "data_train = np.array([i.reshape(300,300,3) for i in data_train])\n",
    "data_train = np.array(tf.cast(tf.image.resize(data_train,(75,75)), np.uint8))"
   ]
  },
  {
   "cell_type": "code",
   "execution_count": 4,
   "id": "d5ae3a33",
   "metadata": {},
   "outputs": [],
   "source": [
    "# Process the data so that it is in the expected form for the InceptionV3 model\n",
    "import tensorflow as tf\n",
    "processed = tf.keras.applications.inception_v3.preprocess_input(data_train, data_format=None)\n",
    "\n",
    "# Break down data into training and test sets\n",
    "from sklearn.model_selection import train_test_split\n",
    "x_train, x_test, t_train, t_test = train_test_split(processed, one_hot_training(labels_train), test_size=0.20, random_state=1)"
   ]
  },
  {
   "cell_type": "code",
   "execution_count": 5,
   "id": "ff26f207",
   "metadata": {},
   "outputs": [],
   "source": [
    "# Augment data to reduce overfitting\n",
    "\n",
    "from tensorflow.keras.preprocessing.image import ImageDataGenerator\n",
    "train_datagen = ImageDataGenerator(horizontal_flip=True,\n",
    "                                   vertical_flip=True,\n",
    "                                   rotation_range=90,\n",
    "                                   brightness_range=(0.25, 0.75))\n",
    "\n",
    "train_generator = train_datagen.flow(\n",
    "    x_train,\n",
    "    y = t_train,\n",
    "    batch_size=BATCH_SIZE)"
   ]
  },
  {
   "cell_type": "code",
   "execution_count": 6,
   "id": "b9cfcb1e",
   "metadata": {},
   "outputs": [],
   "source": [
    "# Import the InceptionV3 Model\n",
    "\n",
    "from tensorflow.keras.applications.inception_v3 import InceptionV3\n",
    "inception = InceptionV3(input_shape=(75,75,3),\n",
    "                       include_top=False,\n",
    "                       weights='imagenet')\n",
    "\n",
    "# Set layers to false to prevent overwriting the existing model\n",
    "for layer in inception.layers:\n",
    "    layer.trainable = False\n",
    "\n",
    "# Create output layers that will be trained\n",
    "from tensorflow.keras.optimizers import SGD\n",
    "x = tf.keras.layers.Flatten()(inception.output)\n",
    "x = tf.keras.layers.Dense(1024, activation=\"relu\")(x)\n",
    "x = tf.keras.layers.Dropout(0.15)(x)\n",
    "x = tf.keras.layers.Dense(10, activation='softmax')(x)\n",
    "\n",
    "# Create Optimizer\n",
    "Adam = tf.keras.optimizers.Adam(learning_rate=0.001, beta_1=0.9, beta_2=0.999, epsilon=1e-07, amsgrad=False, name='Adam') \n",
    "Nadam = tf.keras.optimizers.Nadam(learning_rate=0.001, beta_1=0.9, beta_2=0.999, epsilon=1e-07,name='Nadam') \n",
    "SGD = SGD(learning_rate=0.01, nesterov=False)\n",
    "optimizer = SGD\n",
    "\n",
    "# Finalize and compile the model\n",
    "model = tf.keras.Model(inception.input, outputs = x)\n",
    "model.compile(optimizer = optimizer,\n",
    "             loss = 'categorical_crossentropy',\n",
    "             metrics = ['acc'])"
   ]
  },
  {
   "cell_type": "code",
   "execution_count": null,
   "id": "a9d4081d",
   "metadata": {
    "scrolled": true
   },
   "outputs": [
    {
     "name": "stdout",
     "output_type": "stream",
     "text": [
      "Epoch 1/10\n",
      "78/78 [==============================] - 28s 252ms/step - loss: 1.3830 - acc: 0.5494\n",
      "Epoch 2/10\n",
      "78/78 [==============================] - 20s 251ms/step - loss: 0.8815 - acc: 0.7331\n",
      "Epoch 3/10\n",
      "78/78 [==============================] - 20s 251ms/step - loss: 0.7790 - acc: 0.7603\n",
      "Epoch 4/10\n",
      "27/78 [=========>....................] - ETA: 12s - loss: 0.7260 - acc: 0.7760"
     ]
    }
   ],
   "source": [
    "# Fit the model to the dataset\n",
    "callbacks = tf.keras.callbacks.Callback()\n",
    "history = model.fit(train_generator, epochs=10, batch_size=BATCH_SIZE)\n",
    "model.save(\"100_epoch.h5\")"
   ]
  },
  {
   "cell_type": "code",
   "execution_count": null,
   "id": "d94d4867",
   "metadata": {},
   "outputs": [],
   "source": [
    "# Plot the progression of the acccuracy through the epochs\n",
    "import matplotlib.pyplot as plt\n",
    "plt.plot(history.history['acc'])\n",
    "plt.title('model accuracy')\n",
    "plt.ylabel('Accuracy')\n",
    "plt.xlabel('epoch')\n",
    "plt.legend(['train', 'test'], loc='upper left')\n",
    "plt.show()"
   ]
  },
  {
   "cell_type": "code",
   "execution_count": null,
   "id": "cdd6f63b",
   "metadata": {},
   "outputs": [],
   "source": [
    "# Demo to randomly pick a sign and demonstrate that it is predicted correctly\n",
    "\n",
    "from random import randint\n",
    "test_image = randint(0,len(data_train))\n",
    "test = np.expand_dims(data_train[test_image], axis=0)\n",
    "test = tf.keras.applications.inception_v3.preprocess_input(\n",
    "    test, data_format=None\n",
    ")\n",
    "print(one_hot_translator(model.predict(test)))\n",
    "plt.imshow(data_train[test_image])"
   ]
  },
  {
   "cell_type": "code",
   "execution_count": null,
   "id": "5c759626",
   "metadata": {},
   "outputs": [],
   "source": [
    "# Calculate the predictions for the test values\n",
    "predictions = model.predict(x_test)"
   ]
  },
  {
   "cell_type": "code",
   "execution_count": null,
   "id": "bcd84e79",
   "metadata": {},
   "outputs": [],
   "source": [
    "evaluation = model.evaluate(x_test, t_test)\n",
    "print(\"Test run accuracy is {}\".format(evaluation[-1]))"
   ]
  },
  {
   "cell_type": "code",
   "execution_count": null,
   "id": "40ea5064",
   "metadata": {},
   "outputs": [],
   "source": [
    "# Create a Confusion Matrix to show the weakness in the model\n",
    "predicted_values = translate_all(predictions)\n",
    "real_values = translate_all(t_test)\n",
    "from sklearn.metrics import confusion_matrix\n",
    "from sklearn.metrics import confusion_matrix, ConfusionMatrixDisplay\n",
    "cfm = confusion_matrix(real_values, predicted_values)\n",
    "disp = ConfusionMatrixDisplay(confusion_matrix=cfm, display_labels=['Stop','Yield','Red Light','Green Light','Roundabout','Right Turn Only','Do Not Enter','Crosswalk','Handicap Parking','No Parking'])\n",
    "disp.plot()\n",
    "plt.show()"
   ]
  },
  {
   "cell_type": "code",
   "execution_count": null,
   "id": "63160d48",
   "metadata": {},
   "outputs": [],
   "source": [
    "# Test Run Data\n",
    "\n",
    "# Testing optimizers\n",
    "# NADAM=                                   times = [275,272,286], loss after 3 runs = [19.0231,0.5492,0.4377], accuracy after 3 runs = [0.6372,0.8364,0.8650]\n",
    "# ADAM=                                    times = [190,186,190], loss after 3 runs = [16.5848,0.5596,0.4106], accuracy after 3 runs = [0.6245,0.8307,0.8763]\n",
    "# SGD(.001, Nesterov=No, Momentum = No),   times = [182,180,181], loss after 3 runs = [1.1017, 0.5662,0.4399], accuracy after 3 runs = [0.6269,0.8238,0.8660]\n",
    "# SGD(.01, Nesterov=No, Momentum = No),    times = [180,180,179], loss after 3 runs = [2.6334,0.5418,0.3895], accuracy after 3 runs = [0.5662,0.8210,0.8854]\n",
    "# SGD(.01, Nesterov=Yes, Momentum = 0.25), times = [183,183,183], loss after 3 runs = [2.8777,0.5341,0.4083], accuracy after 3 runs = [0.5361,0.8234,0.8741]\n",
    "# SGD(.01, Nesterov=Yes, Momentum = 0.5),  times = [189,183,183], loss after 3 runs = [3.3616,0.4973,0.4002], accuracy after 3 runs = [0.5696,0.8351,0.8763]\n",
    "# SGD(.01, Nesterov=Yes, Momentum = 0.75), times = [185,185,184], loss after 3 runs = [5.2539,0.5209,0.4359], accuracy after 3 runs = [0.5337,0.8212,0.8606]"
   ]
  },
  {
   "cell_type": "code",
   "execution_count": null,
   "id": "67c3cf33",
   "metadata": {},
   "outputs": [],
   "source": [
    "from random import randint\n",
    "test_image = randint(0,len(x_train))\n",
    "plt.imshow(x_train[test_image])"
   ]
  },
  {
   "cell_type": "code",
   "execution_count": null,
   "id": "e80ae4ed",
   "metadata": {},
   "outputs": [],
   "source": [
    "print(train_generator.next)"
   ]
  },
  {
   "cell_type": "code",
   "execution_count": null,
   "id": "49849ce7",
   "metadata": {},
   "outputs": [],
   "source": []
  }
 ],
 "metadata": {
  "kernelspec": {
   "display_name": "Python 3 (ipykernel)",
   "language": "python",
   "name": "python3"
  },
  "language_info": {
   "codemirror_mode": {
    "name": "ipython",
    "version": 3
   },
   "file_extension": ".py",
   "mimetype": "text/x-python",
   "name": "python",
   "nbconvert_exporter": "python",
   "pygments_lexer": "ipython3",
   "version": "3.9.12"
  }
 },
 "nbformat": 4,
 "nbformat_minor": 5
}
